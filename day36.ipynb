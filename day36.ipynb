{
  "nbformat": 4,
  "nbformat_minor": 0,
  "metadata": {
    "colab": {
      "provenance": [],
      "authorship_tag": "ABX9TyN6SODYXd6Pb3TjxxFpnl0n",
      "include_colab_link": true
    },
    "kernelspec": {
      "name": "python3",
      "display_name": "Python 3"
    },
    "language_info": {
      "name": "python"
    }
  },
  "cells": [
    {
      "cell_type": "markdown",
      "metadata": {
        "id": "view-in-github",
        "colab_type": "text"
      },
      "source": [
        "<a href=\"https://colab.research.google.com/github/vaishhhh1/Python_basics/blob/main/day36.ipynb\" target=\"_parent\"><img src=\"https://colab.research.google.com/assets/colab-badge.svg\" alt=\"Open In Colab\"/></a>"
      ]
    },
    {
      "cell_type": "code",
      "execution_count": 2,
      "metadata": {
        "colab": {
          "base_uri": "https://localhost:8080/"
        },
        "id": "o4xOHE-yjO79",
        "outputId": "31f506fb-9d49-4215-dd04-3bcf120aba38"
      },
      "outputs": [
        {
          "output_type": "stream",
          "name": "stdout",
          "text": [
            "Predicted Category: ml\n"
          ]
        }
      ],
      "source": [
        "\"\"\"Coding Question on Naive Bayes Models\n",
        "Write a Python program to perform text classification using a Naïve Bayes classifier (`MultinomialNB`) from `sklearn.naive_bayes`.\n",
        "Train the model using sample text data and predict the category of a given new text.\n",
        "Example input:\n",
        "    [\"I love programming\", \"Python is great\", \"Machine learning is amazing\"]\"\"\"\n",
        "\n",
        "from sklearn.feature_extraction.text import CountVectorizer, TfidfVectorizer\n",
        "from sklearn.naive_bayes import MultinomialNB\n",
        "from sklearn.model_selection import train_test_split\n",
        "from sklearn.pipeline import make_pipeline\n",
        "\n",
        "corpus = [\n",
        "    \"I love programming\",\n",
        "    \"Python is great\",\n",
        "    \"Machine learning is amazing\",\n",
        "    \"Deep learning is powerful\",\n",
        "    \"I enjoy coding in Python\",\n",
        "    \"Artificial intelligence is the future\"\n",
        "]\n",
        "labels = [\"tech\", \"tech\", \"ml\", \"ml\", \"tech\", \"ml\"]\n",
        "\n",
        "vectorizer = CountVectorizer()\n",
        "X = vectorizer.fit_transform(corpus)\n",
        "X_train, X_test, y_train, y_test = train_test_split(X, labels, test_size=0.2, random_state=42)\n",
        "\n",
        "model = MultinomialNB()\n",
        "model.fit(X_train, y_train)\n",
        "\n",
        "new_text = [\"I love AI and machine learning\"]\n",
        "X_new = vectorizer.transform(new_text)\n",
        "predicted_label = model.predict(X_new)\n",
        "\n",
        "print(\"Predicted Category:\", predicted_label[0])"
      ]
    }
  ]
}