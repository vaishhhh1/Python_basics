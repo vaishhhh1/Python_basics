{
  "nbformat": 4,
  "nbformat_minor": 0,
  "metadata": {
    "colab": {
      "provenance": [],
      "authorship_tag": "ABX9TyN3svE1Oqt1RRTpSiatibc0",
      "include_colab_link": true
    },
    "kernelspec": {
      "name": "python3",
      "display_name": "Python 3"
    },
    "language_info": {
      "name": "python"
    }
  },
  "cells": [
    {
      "cell_type": "markdown",
      "metadata": {
        "id": "view-in-github",
        "colab_type": "text"
      },
      "source": [
        "<a href=\"https://colab.research.google.com/github/vaishhhh1/Python_basics/blob/main/day24.ipynb\" target=\"_parent\"><img src=\"https://colab.research.google.com/assets/colab-badge.svg\" alt=\"Open In Colab\"/></a>"
      ]
    },
    {
      "cell_type": "code",
      "source": [
        "'''Coding Exercise: EDA for Text Data\n",
        "Write a Python program to load a text file, tokenize the text using NLTK, and display the 10 most common words. Use the NLTK library for tokenization.\n",
        "'''\n",
        "import nltk\n",
        "from nltk.tokenize import word_tokenize\n",
        "from collections import Counter\n",
        "file_path = \"sample.txt\"\n",
        "with open(file_path, \"r\", encoding=\"utf-8\") as file:\n",
        "    text = file.read()\n",
        "nltk.download(\"punkt\")\n",
        "tokens = word_tokenize(text.lower())\n",
        "word_counts = Counter(tokens)\n",
        "print(\"Word\\tFrequency\")\n",
        "print(\"----------------\")\n",
        "for word, freq in word_counts.most_common(10):\n",
        "    print(f\"{word}\\t{freq}\")\n"
      ],
      "metadata": {
        "id": "3LEqxEnP6cUN"
      },
      "execution_count": null,
      "outputs": []
    }
  ]
}