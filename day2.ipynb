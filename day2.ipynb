{
  "nbformat": 4,
  "nbformat_minor": 0,
  "metadata": {
    "colab": {
      "provenance": [],
      "authorship_tag": "ABX9TyPOFOQHMQyxb1xghMukdo0n",
      "include_colab_link": true
    },
    "kernelspec": {
      "name": "python3",
      "display_name": "Python 3"
    },
    "language_info": {
      "name": "python"
    }
  },
  "cells": [
    {
      "cell_type": "markdown",
      "metadata": {
        "id": "view-in-github",
        "colab_type": "text"
      },
      "source": [
        "<a href=\"https://colab.research.google.com/github/vaishhhh1/Python_basics/blob/main/day2.ipynb\" target=\"_parent\"><img src=\"https://colab.research.google.com/assets/colab-badge.svg\" alt=\"Open In Colab\"/></a>"
      ]
    },
    {
      "cell_type": "code",
      "execution_count": 1,
      "metadata": {
        "colab": {
          "base_uri": "https://localhost:8080/"
        },
        "id": "6xEjRCjON1hS",
        "outputId": "34fe01b3-4d28-4934-d270-d5b12ae8c218"
      },
      "outputs": [
        {
          "output_type": "stream",
          "name": "stdout",
          "text": [
            "List Examples:\n",
            "20\n",
            "50\n",
            "\n",
            "Tuple Examples:\n",
            "apple\n",
            "date\n",
            "\n",
            "Dictionary Examples:\n",
            "Alice\n",
            "Painting\n",
            "\n",
            "Extra Operations:\n",
            "[30, 40]\n",
            "('banana', 'cherry')\n",
            "dict_keys(['name', 'age', 'city', 'job', 'hobby'])\n"
          ]
        }
      ],
      "source": [
        "'''Create a List, tuple and Dictionary with 5 elements in it and how to access few elements based on the index. Try  with different examples\n",
        "'''\n",
        "#code\n",
        "\n",
        "my_list = [10, 20, 30, 40, 50]\n",
        "my_tuple = ('apple', 'banana', 'cherry', 'date', 'elderberry')\n",
        "my_dict = {\n",
        "    'name': 'Alice',\n",
        "    'age': 25,\n",
        "    'city': 'New York',\n",
        "    'job': 'Engineer',\n",
        "    'hobby': 'Painting'\n",
        "}\n",
        "\n",
        "\n",
        "print(\"List Examples:\")\n",
        "print(my_list[1])\n",
        "print(my_list[-1])\n",
        "\n",
        "\n",
        "print(\"\\nTuple Examples:\")\n",
        "print(my_tuple[0])\n",
        "print(my_tuple[-2])\n",
        "\n",
        "print(\"\\nDictionary Examples:\")\n",
        "print(my_dict['name'])\n",
        "print(my_dict.get('hobby'))\n",
        "\n",
        "print(\"\\nExtra Operations:\")\n",
        "print(my_list[2:4])\n",
        "print(my_tuple[1:3])\n",
        "print(my_dict.keys())\n",
        "\n"
      ]
    },
    {
      "cell_type": "code",
      "source": [],
      "metadata": {
        "id": "s0y8L58ePRS2"
      },
      "execution_count": null,
      "outputs": []
    },
    {
      "cell_type": "code",
      "source": [],
      "metadata": {
        "id": "nUHnwLPnPRUd"
      },
      "execution_count": null,
      "outputs": []
    },
    {
      "cell_type": "code",
      "source": [],
      "metadata": {
        "id": "UajOaXrgPRWa"
      },
      "execution_count": null,
      "outputs": []
    },
    {
      "cell_type": "code",
      "source": [],
      "metadata": {
        "id": "8qGbD5CyPRaj"
      },
      "execution_count": null,
      "outputs": []
    },
    {
      "cell_type": "code",
      "source": [],
      "metadata": {
        "id": "NRiTbEDQPRd7"
      },
      "execution_count": null,
      "outputs": []
    }
  ]
}