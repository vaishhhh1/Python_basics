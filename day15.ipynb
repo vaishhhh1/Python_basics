{
  "nbformat": 4,
  "nbformat_minor": 0,
  "metadata": {
    "colab": {
      "provenance": [],
      "authorship_tag": "ABX9TyOjHjevhRnCfUS4/jrgASl4",
      "include_colab_link": true
    },
    "kernelspec": {
      "name": "python3",
      "display_name": "Python 3"
    },
    "language_info": {
      "name": "python"
    }
  },
  "cells": [
    {
      "cell_type": "markdown",
      "metadata": {
        "id": "view-in-github",
        "colab_type": "text"
      },
      "source": [
        "<a href=\"https://colab.research.google.com/github/vaishhhh1/Python_basics/blob/main/day15.ipynb\" target=\"_parent\"><img src=\"https://colab.research.google.com/assets/colab-badge.svg\" alt=\"Open In Colab\"/></a>"
      ]
    },
    {
      "cell_type": "code",
      "execution_count": 1,
      "metadata": {
        "colab": {
          "base_uri": "https://localhost:8080/"
        },
        "id": "kXSuqdoded0B",
        "outputId": "37237c63-557e-431f-d5cb-6777749f0747"
      },
      "outputs": [
        {
          "output_type": "stream",
          "name": "stdout",
          "text": [
            "['support@example.com', 'sales@example.org']\n"
          ]
        }
      ],
      "source": [
        "'''Examples on Regular Expressions - Coding Assignment\n",
        "Assignment:\n",
        "Write a Python function using regular expressions to extract all email addresses from a given string. Test it with the input: 'Contact us at support@example.com and sales@example.org.'\n",
        "'''\n",
        "import re\n",
        "\n",
        "def extract_emails(text):\n",
        "    emails = re.findall(r'[a-zA-Z0-9._%+-]+@[a-zA-Z0-9.-]+\\.[a-zA-Z]{2,}', text)\n",
        "    return emails\n",
        "\n",
        "input_text = 'Contact us at support@example.com and sales@example.org.'\n",
        "emails = extract_emails(input_text)\n",
        "\n",
        "print(emails)\n"
      ]
    }
  ]
}