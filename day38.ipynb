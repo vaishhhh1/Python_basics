{
  "nbformat": 4,
  "nbformat_minor": 0,
  "metadata": {
    "colab": {
      "provenance": [],
      "authorship_tag": "ABX9TyOSwEt7V/qFYPDVTbUdtCml",
      "include_colab_link": true
    },
    "kernelspec": {
      "name": "python3",
      "display_name": "Python 3"
    },
    "language_info": {
      "name": "python"
    }
  },
  "cells": [
    {
      "cell_type": "markdown",
      "metadata": {
        "id": "view-in-github",
        "colab_type": "text"
      },
      "source": [
        "<a href=\"https://colab.research.google.com/github/vaishhhh1/Python_basics/blob/main/day38.ipynb\" target=\"_parent\"><img src=\"https://colab.research.google.com/assets/colab-badge.svg\" alt=\"Open In Colab\"/></a>"
      ]
    },
    {
      "cell_type": "code",
      "execution_count": 1,
      "metadata": {
        "colab": {
          "base_uri": "https://localhost:8080/"
        },
        "id": "x9woNX2PjtXq",
        "outputId": "7423b233-0e4d-4a10-a571-8de97ac66989"
      },
      "outputs": [
        {
          "output_type": "stream",
          "name": "stdout",
          "text": [
            "Predicted Category: ham\n"
          ]
        }
      ],
      "source": [
        "\"\"\"Coding Question on Text Classification Models\n",
        "Write a Python program to classify text using a simple Decision Tree model from `sklearn. tree. DecisionTreeClassifier`.\n",
        "Convert text data into numerical format using `TfidfVectorizer`.\n",
        "Example input:\n",
        "    [\"Spam messages are annoying\", \"I won a lottery\", \"This is a normal message\"]\"\"\"\n",
        "\n",
        "from sklearn.feature_extraction.text import TfidfVectorizer\n",
        "from sklearn.tree import DecisionTreeClassifier\n",
        "from sklearn.model_selection import train_test_split\n",
        "\n",
        "corpus = [\n",
        "    \"Spam messages are annoying\",\n",
        "    \"I won a lottery\",\n",
        "    \"This is a normal message\",\n",
        "    \"Claim your free prize now\",\n",
        "    \"Hello, how are you?\",\n",
        "    \"Exclusive deal just for you\"\n",
        "]\n",
        "labels = [\"spam\", \"spam\", \"ham\", \"spam\", \"ham\", \"spam\"]\n",
        "\n",
        "tfidf_vectorizer = TfidfVectorizer()\n",
        "X = tfidf_vectorizer.fit_transform(corpus)\n",
        "X_train, X_test, y_train, y_test = train_test_split(X, labels, test_size=0.2, random_state=42)\n",
        "\n",
        "model = DecisionTreeClassifier()\n",
        "model.fit(X_train, y_train)\n",
        "\n",
        "new_text = [\"Congratulations, you won a free vacation\"]\n",
        "X_new = tfidf_vectorizer.transform(new_text)\n",
        "predicted_label = model.predict(X_new)\n",
        "\n",
        "print(\"Predicted Category:\", predicted_label[0])\n",
        "\n",
        "\n"
      ]
    }
  ]
}