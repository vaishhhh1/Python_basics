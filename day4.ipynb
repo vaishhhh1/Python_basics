{
  "nbformat": 4,
  "nbformat_minor": 0,
  "metadata": {
    "colab": {
      "provenance": [],
      "authorship_tag": "ABX9TyNJ29QTDZkzwPBbTgW5OPJD",
      "include_colab_link": true
    },
    "kernelspec": {
      "name": "python3",
      "display_name": "Python 3"
    },
    "language_info": {
      "name": "python"
    }
  },
  "cells": [
    {
      "cell_type": "markdown",
      "metadata": {
        "id": "view-in-github",
        "colab_type": "text"
      },
      "source": [
        "<a href=\"https://colab.research.google.com/github/vaishhhh1/Python_basics/blob/main/day4.ipynb\" target=\"_parent\"><img src=\"https://colab.research.google.com/assets/colab-badge.svg\" alt=\"Open In Colab\"/></a>"
      ]
    },
    {
      "cell_type": "code",
      "execution_count": 1,
      "metadata": {
        "colab": {
          "base_uri": "https://localhost:8080/"
        },
        "id": "Xhy5E3IoP6JH",
        "outputId": "93423490-c7ea-43a3-ef78-4b552c9ee7fb"
      },
      "outputs": [
        {
          "output_type": "stream",
          "name": "stdout",
          "text": [
            "Enter a positive integer: 9\n",
            "The sum of all even numbers between 1 and 9 is: 20\n"
          ]
        }
      ],
      "source": [
        "'''Write a Python program to calculate the sum of all even numbers between 1 and a given positive integer n\n",
        "'''\n",
        "#CODE\n",
        "n = int(input(\"Enter a positive integer: \"))\n",
        "sum_of_evens = 0\n",
        "for i in range(2, n + 1, 2):\n",
        "    sum_of_evens += i\n",
        "print(f\"The sum of all even numbers between 1 and {n} is: {sum_of_evens}\")\n",
        "\n"
      ]
    },
    {
      "cell_type": "code",
      "source": [],
      "metadata": {
        "id": "gDnSuGFoQQCb"
      },
      "execution_count": null,
      "outputs": []
    }
  ]
}