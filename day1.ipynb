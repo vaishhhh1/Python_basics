{
  "nbformat": 4,
  "nbformat_minor": 0,
  "metadata": {
    "colab": {
      "provenance": [],
      "authorship_tag": "ABX9TyMDDgy0VS7sJ+k/lbIuWUyf",
      "include_colab_link": true
    },
    "kernelspec": {
      "name": "python3",
      "display_name": "Python 3"
    },
    "language_info": {
      "name": "python"
    }
  },
  "cells": [
    {
      "cell_type": "markdown",
      "metadata": {
        "id": "view-in-github",
        "colab_type": "text"
      },
      "source": [
        "<a href=\"https://colab.research.google.com/github/vaishhhh1/Python_basics/blob/main/day1.ipynb\" target=\"_parent\"><img src=\"https://colab.research.google.com/assets/colab-badge.svg\" alt=\"Open In Colab\"/></a>"
      ]
    },
    {
      "cell_type": "code",
      "execution_count": null,
      "metadata": {
        "colab": {
          "base_uri": "https://localhost:8080/"
        },
        "id": "3QSWuNmhXwfC",
        "outputId": "5489e2a1-e4b5-4508-9c06-117c1ab4a14c"
      },
      "outputs": [
        {
          "output_type": "stream",
          "name": "stdout",
          "text": [
            "Integer Variable: 10 | Type: <class 'int'>\n",
            "Float Variable: 20.5 | Type: <class 'float'>\n",
            "String Variable: Hello | Type: <class 'str'>\n",
            "Boolean Variable: True | Type: <class 'bool'>\n"
          ]
        }
      ],
      "source": [
        "'''\n",
        "1. Jupyter Notebook and Data Types\n",
        "Write a program in Jupyter Notebook to declare variables of different data types (integer, float, string, and boolean). Print each variable and\n",
        "'''\n",
        "#CODE\n",
        "integer_var = 10\n",
        "float_var = 20.5\n",
        "string_var = \"Hello\"\n",
        "boolean_var = True\n",
        "print(\"Integer Variable:\", integer_var, \"| Type:\", type(integer_var))\n",
        "print(\"Float Variable:\", float_var, \"| Type:\", type(float_var))\n",
        "print(\"String Variable:\", string_var, \"| Type:\", type(string_var))\n",
        "print(\"Boolean Variable:\", boolean_var, \"| Type:\", type(boolean_var))\n"
      ]
    }
  ]
}