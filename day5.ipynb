{
  "nbformat": 4,
  "nbformat_minor": 0,
  "metadata": {
    "colab": {
      "provenance": [],
      "authorship_tag": "ABX9TyNimyqa1PsRzeCekKTSbplN",
      "include_colab_link": true
    },
    "kernelspec": {
      "name": "python3",
      "display_name": "Python 3"
    },
    "language_info": {
      "name": "python"
    }
  },
  "cells": [
    {
      "cell_type": "markdown",
      "metadata": {
        "id": "view-in-github",
        "colab_type": "text"
      },
      "source": [
        "<a href=\"https://colab.research.google.com/github/vaishhhh1/Python_basics/blob/main/day5.ipynb\" target=\"_parent\"><img src=\"https://colab.research.google.com/assets/colab-badge.svg\" alt=\"Open In Colab\"/></a>"
      ]
    },
    {
      "cell_type": "code",
      "execution_count": 1,
      "metadata": {
        "colab": {
          "base_uri": "https://localhost:8080/"
        },
        "id": "3nXESmiuQe6L",
        "outputId": "66aeb919-cd6c-4883-c4af-90109075c56b"
      },
      "outputs": [
        {
          "output_type": "stream",
          "name": "stdout",
          "text": [
            "Enter a block of text: i have so many tasks to complete , i m becoming busy with my works these days.\n",
            "\n",
            "Word Frequencies:\n",
            "i: 2\n",
            "have: 1\n",
            "so: 1\n",
            "many: 1\n",
            "tasks: 1\n",
            "to: 1\n",
            "complete: 1\n",
            ",: 1\n",
            "m: 1\n",
            "becoming: 1\n",
            "busy: 1\n",
            "with: 1\n",
            "my: 1\n",
            "works: 1\n",
            "these: 1\n",
            "days.: 1\n"
          ]
        }
      ],
      "source": [
        "'''   write a python program to calculate the frequency of each word in a given text . print words and their corresponding frequencies'''\n",
        "#CODE\n",
        "text = input(\"Enter a block of text: \")\n",
        "words = text.lower().split()\n",
        "word_frequency = {}\n",
        "for word in words:\n",
        "    word_frequency[word] = word_frequency.get(word, 0) + 1\n",
        "print(\"\\nWord Frequencies:\")\n",
        "for word, frequency in word_frequency.items():\n",
        "    print(f\"{word}: {frequency}\")\n",
        "\n"
      ]
    }
  ]
}