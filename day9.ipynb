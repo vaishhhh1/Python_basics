{
  "nbformat": 4,
  "nbformat_minor": 0,
  "metadata": {
    "colab": {
      "provenance": [],
      "authorship_tag": "ABX9TyO132QymPJvz7qKV0qBPdfJ",
      "include_colab_link": true
    },
    "kernelspec": {
      "name": "python3",
      "display_name": "Python 3"
    },
    "language_info": {
      "name": "python"
    }
  },
  "cells": [
    {
      "cell_type": "markdown",
      "metadata": {
        "id": "view-in-github",
        "colab_type": "text"
      },
      "source": [
        "<a href=\"https://colab.research.google.com/github/vaishhhh1/Python_basics/blob/main/day9.ipynb\" target=\"_parent\"><img src=\"https://colab.research.google.com/assets/colab-badge.svg\" alt=\"Open In Colab\"/></a>"
      ]
    },
    {
      "cell_type": "code",
      "execution_count": 3,
      "metadata": {
        "id": "yMQbt3N5b4qc"
      },
      "outputs": [],
      "source": [
        "import nltk\n",
        "import gensim\n",
        "from nltk.tokenize import word_tokenize\n",
        "from nltk.stem import PorterStemmer\n",
        "from nltk.corpus import stopwords\n",
        "from nltk.stem import WordNetLemmatizer\n",
        "from gensim import corpora\n",
        "\n",
        "nltk.download('punkt')\n",
        "nltk.download('stopwords')\n",
        "nltk.download('wordnet')\n",
        "\n",
        "stemmer = PorterStemmer()\n",
        "lemmatizer = WordNetLemmatizer()\n",
        "\n",
        "with open('sample.txt', 'r') as file:\n",
        "    text = file.read()\n",
        "\n",
        "tokens = word_tokenize(text)\n",
        "stop_words = set(stopwords.words('english'))\n",
        "filtered_tokens = [word for word in tokens if word.lower() not in stop_words]\n",
        "stemmed_tokens = [stemmer.stem(word) for word in filtered_tokens]\n",
        "lemmatized_tokens = [lemmatizer.lemmatize(word) for word in stemmed_tokens]\n",
        "\n",
        "dictionary = corpora.Dictionary([lemmatized_tokens])\n",
        "corpus = [dictionary.doc2bow(lemmatized_tokens)]\n",
        "\n",
        "print(\"Processed Tokens: \", lemmatized_tokens)\n",
        "print(\"Dictionary: \", dictionary.token2id)\n",
        "print(\"Corpus: \", corpus)\n"
      ]
    },
    {
      "source": [],
      "cell_type": "code",
      "metadata": {
        "id": "W6OzM56bcf6S"
      },
      "execution_count": 3,
      "outputs": []
    }
  ]
}