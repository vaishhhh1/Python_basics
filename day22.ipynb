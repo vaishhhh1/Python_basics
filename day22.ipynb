{
  "nbformat": 4,
  "nbformat_minor": 0,
  "metadata": {
    "colab": {
      "provenance": [],
      "authorship_tag": "ABX9TyN7zVP0FgSSMWUcA4axT6pJ",
      "include_colab_link": true
    },
    "kernelspec": {
      "name": "python3",
      "display_name": "Python 3"
    },
    "language_info": {
      "name": "python"
    }
  },
  "cells": [
    {
      "cell_type": "markdown",
      "metadata": {
        "id": "view-in-github",
        "colab_type": "text"
      },
      "source": [
        "<a href=\"https://colab.research.google.com/github/vaishhhh1/Python_basics/blob/main/day22.ipynb\" target=\"_parent\"><img src=\"https://colab.research.google.com/assets/colab-badge.svg\" alt=\"Open In Colab\"/></a>"
      ]
    },
    {
      "cell_type": "code",
      "execution_count": 1,
      "metadata": {
        "colab": {
          "base_uri": "https://localhost:8080/"
        },
        "id": "9QC6EZ6O4pOr",
        "outputId": "fd890b21-b1d7-4d0e-bc6b-5f4d0f842b6b"
      },
      "outputs": [
        {
          "output_type": "stream",
          "name": "stdout",
          "text": [
            "Word\tPOS Tag\n",
            "----------------\n",
            "NLP\tPROPN\n",
            "is\tAUX\n",
            "amazing\tADJ\n",
            "and\tCCONJ\n",
            "fun\tADJ\n",
            "to\tPART\n",
            "learn\tVERB\n",
            ".\tPUNCT\n"
          ]
        }
      ],
      "source": [
        "'''Part of Speech Tagging using SpaCy - Coding Assignment\n",
        "Assignment:\n",
        "Write a Python script to perform part-of-speech tagging on the sentence: 'NLP is amazing and fun to learn.' using SpaCy.\n",
        "'''\n",
        "import spacy\n",
        "\n",
        "nlp = spacy.load(\"en_core_web_sm\")\n",
        "\n",
        "\n",
        "sentence = \"NLP is amazing and fun to learn.\"\n",
        "\n",
        "\n",
        "doc = nlp(sentence)\n",
        "\n",
        "\n",
        "print(\"Word\tPOS Tag\")\n",
        "print(\"----------------\")\n",
        "for token in doc:\n",
        "    print(f\"{token.text}\t{token.pos_}\")\n"
      ]
    },
    {
      "cell_type": "markdown",
      "source": [],
      "metadata": {
        "id": "Zt9cX7he4xi0"
      }
    }
  ]
}