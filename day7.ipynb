{
  "nbformat": 4,
  "nbformat_minor": 0,
  "metadata": {
    "colab": {
      "provenance": [],
      "authorship_tag": "ABX9TyNrAeHo5T9JlJi4H8c6J8Ag",
      "include_colab_link": true
    },
    "kernelspec": {
      "name": "python3",
      "display_name": "Python 3"
    },
    "language_info": {
      "name": "python"
    }
  },
  "cells": [
    {
      "cell_type": "markdown",
      "metadata": {
        "id": "view-in-github",
        "colab_type": "text"
      },
      "source": [
        "<a href=\"https://colab.research.google.com/github/vaishhhh1/Python_basics/blob/main/day7.ipynb\" target=\"_parent\"><img src=\"https://colab.research.google.com/assets/colab-badge.svg\" alt=\"Open In Colab\"/></a>"
      ]
    },
    {
      "cell_type": "code",
      "execution_count": 1,
      "metadata": {
        "colab": {
          "base_uri": "https://localhost:8080/"
        },
        "id": "jAet7EMKJhhQ",
        "outputId": "0cef68dc-62da-4de6-bf85-eccd231303d8"
      },
      "outputs": [
        {
          "output_type": "stream",
          "name": "stderr",
          "text": [
            "[nltk_data] Downloading package stopwords to /root/nltk_data...\n",
            "[nltk_data]   Unzipping corpora/stopwords.zip.\n"
          ]
        },
        {
          "output_type": "stream",
          "name": "stdout",
          "text": [
            "example sentence showing removal stopwords using nltk spacy .\n"
          ]
        }
      ],
      "source": [
        "'''Write a Python program to using NLTK and Spacy\n",
        "Convert text to lowercase.\n",
        "Remove stopwords using NLTK\n",
        "'''\n",
        "import nltk\n",
        "import spacy\n",
        "from nltk.corpus import stopwords\n",
        "\n",
        "# Download NLTK stopwords\n",
        "nltk.download('stopwords')\n",
        "\n",
        "# Load SpaCy's English model\n",
        "nlp = spacy.load('en_core_web_sm')\n",
        "\n",
        "def process_text(text):\n",
        "    # Convert text to lowercase\n",
        "    text = text.lower()\n",
        "\n",
        "    # Tokenize using SpaCy\n",
        "    doc = nlp(text)\n",
        "\n",
        "    # Remove stopwords using NLTK\n",
        "    stop_words = set(stopwords.words('english'))\n",
        "    filtered_tokens = [token.text for token in doc if token.text not in stop_words]\n",
        "\n",
        "    return ' '.join(filtered_tokens)\n",
        "\n",
        "# Example text\n",
        "text = \"This is an example sentence showing the removal of stopwords using NLTK and SpaCy.\"\n",
        "\n",
        "processed_text = process_text(text)\n",
        "print(processed_text)\n"
      ]
    }
  ]
}