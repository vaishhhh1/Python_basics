{
  "nbformat": 4,
  "nbformat_minor": 0,
  "metadata": {
    "colab": {
      "provenance": [],
      "authorship_tag": "ABX9TyOg4tuv8h93ORQEOS8bd/1m",
      "include_colab_link": true
    },
    "kernelspec": {
      "name": "python3",
      "display_name": "Python 3"
    },
    "language_info": {
      "name": "python"
    }
  },
  "cells": [
    {
      "cell_type": "markdown",
      "metadata": {
        "id": "view-in-github",
        "colab_type": "text"
      },
      "source": [
        "<a href=\"https://colab.research.google.com/github/vaishhhh1/Python_basics/blob/main/day46.ipynb\" target=\"_parent\"><img src=\"https://colab.research.google.com/assets/colab-badge.svg\" alt=\"Open In Colab\"/></a>"
      ]
    },
    {
      "cell_type": "code",
      "execution_count": 1,
      "metadata": {
        "colab": {
          "base_uri": "https://localhost:8080/"
        },
        "id": "jucMrr5Vk8H4",
        "outputId": "69a40a8a-219a-44b9-c77a-cde3ee9d3ad8"
      },
      "outputs": [
        {
          "output_type": "stream",
          "name": "stdout",
          "text": [
            "You: heyy\n",
            "Chatbot: I'm not sure how to respond to that.\n",
            "You: how are you\n",
            "Chatbot: I'm not sure how to respond to that.\n",
            "You: how are you?\n",
            "Chatbot: I'm just a bot, but I'm doing great! How about you?\n",
            "You: bye\n",
            "Chatbot: Goodbye! Have a nice day!\n"
          ]
        }
      ],
      "source": [
        "\"\"\"Coding Exercise: Rule-based Chatbots, Examples\n",
        "Write a Python program that uses a dictionary to define chatbot responses. The chatbot should reply to 'Hello', 'How are you?', and 'Bye' with predefined responses.\n",
        "\"\"\"\n",
        "\n",
        "def chatbot():\n",
        "    responses = {\n",
        "        \"hello\": \"Hi! How can I help you?\",\n",
        "        \"how are you?\": \"I'm just a bot, but I'm doing great! How about you?\",\n",
        "        \"bye\": \"Goodbye! Have a nice day!\"\n",
        "    }\n",
        "    while True:\n",
        "        user_input = input(\"You: \").lower()\n",
        "        if user_input in responses:\n",
        "            print(f\"Chatbot: {responses[user_input]}\")\n",
        "            if user_input == \"bye\":\n",
        "                break\n",
        "        else:\n",
        "            print(\"Chatbot: I'm not sure how to respond to that.\")\n",
        "\n",
        "chatbot()\n",
        "\n"
      ]
    }
  ]
}