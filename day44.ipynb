{
  "nbformat": 4,
  "nbformat_minor": 0,
  "metadata": {
    "colab": {
      "provenance": [],
      "authorship_tag": "ABX9TyPSYI2qMu56IzHvTko5FTdv",
      "include_colab_link": true
    },
    "kernelspec": {
      "name": "python3",
      "display_name": "Python 3"
    },
    "language_info": {
      "name": "python"
    }
  },
  "cells": [
    {
      "cell_type": "markdown",
      "metadata": {
        "id": "view-in-github",
        "colab_type": "text"
      },
      "source": [
        "<a href=\"https://colab.research.google.com/github/vaishhhh1/Python_basics/blob/main/day44.ipynb\" target=\"_parent\"><img src=\"https://colab.research.google.com/assets/colab-badge.svg\" alt=\"Open In Colab\"/></a>"
      ]
    },
    {
      "cell_type": "code",
      "execution_count": 1,
      "metadata": {
        "colab": {
          "base_uri": "https://localhost:8080/"
        },
        "id": "pwTxIgyNkjTP",
        "outputId": "764bcde8-8c77-4395-8b6a-f6e8e15b1656"
      },
      "outputs": [
        {
          "output_type": "stream",
          "name": "stdout",
          "text": [
            "You: hey\n",
            "Chatbot: I'm not sure how to respond to that.\n",
            "You: hello\n",
            "Chatbot: Hi! How can I help you?\n",
            "You: bye\n",
            "Chatbot: Goodbye! Have a nice day!\n"
          ]
        }
      ],
      "source": [
        "\"\"\"Coding Exercise: NLP Applications - Introduction to Chatbots\n",
        "Write a Python program to create a simple chatbot that responds to user input. Use an if-else statement to reply to 'Hello' with 'Hi! How can I help you?' and to 'Bye' with 'Goodbye! Have a nice day!'.\"\"\"\n",
        "\n",
        "def chatbot():\n",
        "    while True:\n",
        "        user_input = input(\"You: \")\n",
        "        if user_input.lower() == \"hello\":\n",
        "            print(\"Chatbot: Hi! How can I help you?\")\n",
        "        elif user_input.lower() == \"bye\":\n",
        "            print(\"Chatbot: Goodbye! Have a nice day!\")\n",
        "            break\n",
        "        else:\n",
        "            print(\"Chatbot: I'm not sure how to respond to that.\")\n",
        "\n",
        "chatbot()\n"
      ]
    }
  ]
}