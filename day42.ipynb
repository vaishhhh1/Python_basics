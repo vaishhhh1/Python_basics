{
  "nbformat": 4,
  "nbformat_minor": 0,
  "metadata": {
    "colab": {
      "provenance": [],
      "authorship_tag": "ABX9TyPmADI0aOic/0SJ1ZGO8868",
      "include_colab_link": true
    },
    "kernelspec": {
      "name": "python3",
      "display_name": "Python 3"
    },
    "language_info": {
      "name": "python"
    }
  },
  "cells": [
    {
      "cell_type": "markdown",
      "metadata": {
        "id": "view-in-github",
        "colab_type": "text"
      },
      "source": [
        "<a href=\"https://colab.research.google.com/github/vaishhhh1/Python_basics/blob/main/day42.ipynb\" target=\"_parent\"><img src=\"https://colab.research.google.com/assets/colab-badge.svg\" alt=\"Open In Colab\"/></a>"
      ]
    },
    {
      "cell_type": "code",
      "execution_count": 1,
      "metadata": {
        "colab": {
          "base_uri": "https://localhost:8080/"
        },
        "id": "yl9LlGr1kFYQ",
        "outputId": "f2a9be2b-3b91-4db5-f675-209ac38bf142"
      },
      "outputs": [
        {
          "output_type": "stream",
          "name": "stdout",
          "text": [
            "Predicted Category: spam\n"
          ]
        }
      ],
      "source": [
        "\"\"\"Coding Question on Ensemble Models Text Classification\n",
        "Write a Python program to classify text using an ensemble model (`RandomForestClassifier`) from `sklearn.ensemble`.\n",
        "Use `TfidfVectorizer` to convert text into numerical format.\n",
        "Example input:\n",
        "    [\"Buy now and win a prize\", \"Normal email content\", \"Congratulations, you won!\"]\"\"\"\n",
        "\n",
        "\n",
        "from sklearn.feature_extraction.text import TfidfVectorizer\n",
        "from sklearn.ensemble import RandomForestClassifier\n",
        "from sklearn.model_selection import train_test_split\n",
        "\n",
        "corpus = [\n",
        "    \"Buy now and win a prize\",\n",
        "    \"Normal email content\",\n",
        "    \"Congratulations, you won!\",\n",
        "    \"Limited time offer, act now\",\n",
        "    \"Hello, how was your day?\",\n",
        "    \"Exclusive deal just for you\"\n",
        "]\n",
        "labels = [\"spam\", \"ham\", \"spam\", \"spam\", \"ham\", \"spam\"]\n",
        "\n",
        "tfidf_vectorizer = TfidfVectorizer()\n",
        "X = tfidf_vectorizer.fit_transform(corpus)\n",
        "X_train, X_test, y_train, y_test = train_test_split(X, labels, test_size=0.2, random_state=42)\n",
        "\n",
        "model = RandomForestClassifier(n_estimators=100, random_state=42)\n",
        "model.fit(X_train, y_train)\n",
        "\n",
        "new_text = [\"Win a free vacation now\"]\n",
        "X_new = tfidf_vectorizer.transform(new_text)\n",
        "predicted_label = model.predict(X_new)\n",
        "\n",
        "print(\"Predicted Category:\", predicted_label[0])\n"
      ]
    }
  ]
}