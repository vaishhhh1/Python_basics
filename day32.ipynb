{
  "nbformat": 4,
  "nbformat_minor": 0,
  "metadata": {
    "colab": {
      "provenance": [],
      "authorship_tag": "ABX9TyMJa4eqFXc9s/0zaxq3z+Gr",
      "include_colab_link": true
    },
    "kernelspec": {
      "name": "python3",
      "display_name": "Python 3"
    },
    "language_info": {
      "name": "python"
    }
  },
  "cells": [
    {
      "cell_type": "markdown",
      "metadata": {
        "id": "view-in-github",
        "colab_type": "text"
      },
      "source": [
        "<a href=\"https://colab.research.google.com/github/vaishhhh1/Python_basics/blob/main/day32.ipynb\" target=\"_parent\"><img src=\"https://colab.research.google.com/assets/colab-badge.svg\" alt=\"Open In Colab\"/></a>"
      ]
    },
    {
      "cell_type": "code",
      "execution_count": null,
      "metadata": {
        "id": "eofNlUpDNzPK"
      },
      "outputs": [],
      "source": [
        "'''Coding Exercise: Exercises Covering All Concepts\n",
        "Write a Python program to load a text file, perform tokenization, calculate the term frequency (TF) of each token, and display the top 5 most frequent tokens.\n",
        "'''\n",
        "import re\n",
        "from collections import Counter\n",
        "\n",
        "def load_text(file_path):\n",
        "    with open(file_path, 'r', encoding='utf-8') as file:\n",
        "        return file.read()\n",
        "def tokenize(text):\n",
        "    words = re.findall(r'\\b\\w+\\b', text.lower())\n",
        "    return words\n",
        "def compute_term_frequency(tokens):\n",
        "    return Counter(tokens)\n",
        "def main():\n",
        "    file_path = input(\"Enter the text file path: \")\n",
        "    text = load_text(file_path)\n",
        "    tokens = tokenize(text)\n",
        "    term_frequencies = compute_term_frequency(tokens)\n",
        "\n",
        "    print(\"Top 5 most frequent tokens:\")\n",
        "    for word, freq in term_frequencies.most_common(5):\n",
        "        print(f\"{word}: {freq}\")\n",
        "\n",
        "if __name__ == \"__main__\":\n",
        "    main()\n"
      ]
    }
  ]
}