{
  "nbformat": 4,
  "nbformat_minor": 0,
  "metadata": {
    "colab": {
      "provenance": [],
      "authorship_tag": "ABX9TyMDkD/elE2e2GCP6qA7Z1cv",
      "include_colab_link": true
    },
    "kernelspec": {
      "name": "python3",
      "display_name": "Python 3"
    },
    "language_info": {
      "name": "python"
    }
  },
  "cells": [
    {
      "cell_type": "markdown",
      "metadata": {
        "id": "view-in-github",
        "colab_type": "text"
      },
      "source": [
        "<a href=\"https://colab.research.google.com/github/vaishhhh1/Python_basics/blob/main/day50.ipynb\" target=\"_parent\"><img src=\"https://colab.research.google.com/assets/colab-badge.svg\" alt=\"Open In Colab\"/></a>"
      ]
    },
    {
      "cell_type": "code",
      "execution_count": 1,
      "metadata": {
        "colab": {
          "base_uri": "https://localhost:8080/"
        },
        "id": "EFYTItHxqwbi",
        "outputId": "de677c66-c59d-430b-c912-55f516f771be"
      },
      "outputs": [
        {
          "output_type": "stream",
          "name": "stdout",
          "text": [
            "Attention Output: [[0.40907837 0.57487469 0.48697096 0.50025049]]\n"
          ]
        }
      ],
      "source": [
        "\"\"\"Coding Exercise: Intro to Self-Attention Mechanism\n",
        "Write a Python program to create a simple attention score calculation. Use NumPy to generate random values for query, key, and value vectors, then compute the dot product.\n",
        "\"\"\"\n",
        "\n",
        "import numpy as np\n",
        "\n",
        "def attention_score(query, key, value):\n",
        "    scores = np.dot(query, key.T)\n",
        "    attention_weights = np.exp(scores) / np.sum(np.exp(scores), axis=1, keepdims=True)\n",
        "    output = np.dot(attention_weights, value)\n",
        "    return output\n",
        "\n",
        "np.random.seed(42)\n",
        "query = np.random.rand(1, 4)\n",
        "key = np.random.rand(4, 4)\n",
        "value = np.random.rand(4, 4)\n",
        "\n",
        "output = attention_score(query, key, value)\n",
        "print(\"Attention Output:\", output)\n"
      ]
    }
  ]
}